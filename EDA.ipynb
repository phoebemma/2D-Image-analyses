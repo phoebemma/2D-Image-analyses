{
 "cells": [
  {
   "cell_type": "code",
   "execution_count": 1,
   "metadata": {},
   "outputs": [],
   "source": [
    "import numpy as np # linear algebra\n",
    "import pandas as pd # data processing, CSV file I/O (e.g. pd.read_csv)\n",
    "import os\n",
    "from glob import glob\n",
    "%matplotlib inline\n",
    "import matplotlib.pyplot as plt\n",
    "import seaborn as sns\n",
    "from itertools import chain\n",
    "import scipy\n",
    "\n",
    "##Import any other packages you may need here"
   ]
  },
  {
   "cell_type": "code",
   "execution_count": 2,
   "metadata": {},
   "outputs": [
    {
     "data": {
      "text/html": [
       "<div>\n",
       "<style scoped>\n",
       "    .dataframe tbody tr th:only-of-type {\n",
       "        vertical-align: middle;\n",
       "    }\n",
       "\n",
       "    .dataframe tbody tr th {\n",
       "        vertical-align: top;\n",
       "    }\n",
       "\n",
       "    .dataframe thead th {\n",
       "        text-align: right;\n",
       "    }\n",
       "</style>\n",
       "<table border=\"1\" class=\"dataframe\">\n",
       "  <thead>\n",
       "    <tr style=\"text-align: right;\">\n",
       "      <th></th>\n",
       "      <th>Image Index</th>\n",
       "      <th>Finding Labels</th>\n",
       "      <th>Follow-up #</th>\n",
       "      <th>Patient ID</th>\n",
       "      <th>Patient Age</th>\n",
       "      <th>Patient Gender</th>\n",
       "      <th>View Position</th>\n",
       "      <th>OriginalImageWidth</th>\n",
       "      <th>OriginalImageHeight</th>\n",
       "      <th>OriginalImagePixelSpacing_x</th>\n",
       "      <th>OriginalImagePixelSpacing_y</th>\n",
       "    </tr>\n",
       "  </thead>\n",
       "  <tbody>\n",
       "    <tr>\n",
       "      <th>1911</th>\n",
       "      <td>00010007_029.png</td>\n",
       "      <td>Atelectasis|Effusion|Infiltration</td>\n",
       "      <td>29</td>\n",
       "      <td>10007</td>\n",
       "      <td>058Y</td>\n",
       "      <td>M</td>\n",
       "      <td>AP</td>\n",
       "      <td>2500</td>\n",
       "      <td>2048</td>\n",
       "      <td>0.168</td>\n",
       "      <td>0.168</td>\n",
       "    </tr>\n",
       "    <tr>\n",
       "      <th>4500</th>\n",
       "      <td>00022442_002.png</td>\n",
       "      <td>Edema</td>\n",
       "      <td>2</td>\n",
       "      <td>22442</td>\n",
       "      <td>035Y</td>\n",
       "      <td>M</td>\n",
       "      <td>AP</td>\n",
       "      <td>3056</td>\n",
       "      <td>2544</td>\n",
       "      <td>0.139</td>\n",
       "      <td>0.139</td>\n",
       "    </tr>\n",
       "    <tr>\n",
       "      <th>5154</th>\n",
       "      <td>00027427_011.png</td>\n",
       "      <td>No Finding</td>\n",
       "      <td>11</td>\n",
       "      <td>27427</td>\n",
       "      <td>056Y</td>\n",
       "      <td>M</td>\n",
       "      <td>AP</td>\n",
       "      <td>3056</td>\n",
       "      <td>2544</td>\n",
       "      <td>0.139</td>\n",
       "      <td>0.139</td>\n",
       "    </tr>\n",
       "  </tbody>\n",
       "</table>\n",
       "</div>"
      ],
      "text/plain": [
       "           Image Index                     Finding Labels  Follow-up #  \\\n",
       "1911  00010007_029.png  Atelectasis|Effusion|Infiltration           29   \n",
       "4500  00022442_002.png                              Edema            2   \n",
       "5154  00027427_011.png                         No Finding           11   \n",
       "\n",
       "      Patient ID Patient Age Patient Gender View Position  OriginalImageWidth  \\\n",
       "1911       10007        058Y              M            AP                2500   \n",
       "4500       22442        035Y              M            AP                3056   \n",
       "5154       27427        056Y              M            AP                3056   \n",
       "\n",
       "      OriginalImageHeight  OriginalImagePixelSpacing_x  \\\n",
       "1911                 2048                        0.168   \n",
       "4500                 2544                        0.139   \n",
       "5154                 2544                        0.139   \n",
       "\n",
       "      OriginalImagePixelSpacing_y  \n",
       "1911                        0.168  \n",
       "4500                        0.139  \n",
       "5154                        0.139  "
      ]
     },
     "execution_count": 2,
     "metadata": {},
     "output_type": "execute_result"
    }
   ],
   "source": [
    "## Below is some helper code to read all of your full image filepaths into a dataframe for easier manipulation\n",
    "\n",
    "all_xray_df = pd.read_csv('Data_Entry_2017.csv')\n",
    "all_xray_df.sample(3)\n",
    "\n",
    "data_sample = pd.read_csv('sample_labels.csv')\n",
    "data_sample.sample(3)"
   ]
  },
  {
   "cell_type": "markdown",
   "metadata": {},
   "source": [
    "EDA is open-ended, and it is up to you to decide how to look at different ways to slice and dice your data. A good starting point is to look at the requirements for the FDA documentation in the final part of this project to guide (some) of the analyses you do. \n",
    "\n",
    "This EDA should also help to inform you of how pneumonia looks in the wild. E.g. what other types of diseases it's commonly found with, how often it is found, what ages it affects, etc. \n",
    "\n",
    "Note that this NIH dataset was not specifically acquired for pneumonia. So, while this is a representation of 'pneumonia in the wild,' the prevalence of pneumonia may be different if you were to take only chest x-rays that were acquired in an ER setting with suspicion of pneumonia. "
   ]
  },
  {
   "cell_type": "markdown",
   "metadata": {},
   "source": [
    "Also, **describe your findings and how will you set up the model training based on the findings.**"
   ]
  },
  {
   "cell_type": "code",
   "execution_count": 3,
   "metadata": {},
   "outputs": [
    {
     "data": {
      "text/plain": [
       "112120"
      ]
     },
     "execution_count": 3,
     "metadata": {},
     "output_type": "execute_result"
    }
   ],
   "source": [
    "## size of NIH data\n",
    "len(all_xray_df)"
   ]
  },
  {
   "cell_type": "code",
   "execution_count": 4,
   "metadata": {},
   "outputs": [
    {
     "data": {
      "text/plain": [
       "5606"
      ]
     },
     "execution_count": 4,
     "metadata": {},
     "output_type": "execute_result"
    }
   ],
   "source": [
    "#size sample data\n",
    "len(data_sample)"
   ]
  },
  {
   "cell_type": "code",
   "execution_count": 5,
   "metadata": {},
   "outputs": [
    {
     "name": "stdout",
     "output_type": "stream",
     "text": [
      "All Labels (15): ['Atelectasis', 'Cardiomegaly', 'Consolidation', 'Edema', 'Effusion', 'Emphysema', 'Fibrosis', 'Hernia', 'Infiltration', 'Mass', 'No Finding', 'Nodule', 'Pleural_Thickening', 'Pneumonia', 'Pneumothorax']\n"
     ]
    },
    {
     "data": {
      "text/html": [
       "<div>\n",
       "<style scoped>\n",
       "    .dataframe tbody tr th:only-of-type {\n",
       "        vertical-align: middle;\n",
       "    }\n",
       "\n",
       "    .dataframe tbody tr th {\n",
       "        vertical-align: top;\n",
       "    }\n",
       "\n",
       "    .dataframe thead th {\n",
       "        text-align: right;\n",
       "    }\n",
       "</style>\n",
       "<table border=\"1\" class=\"dataframe\">\n",
       "  <thead>\n",
       "    <tr style=\"text-align: right;\">\n",
       "      <th></th>\n",
       "      <th>Image Index</th>\n",
       "      <th>Finding Labels</th>\n",
       "      <th>Follow-up #</th>\n",
       "      <th>Patient ID</th>\n",
       "      <th>Patient Age</th>\n",
       "      <th>Patient Gender</th>\n",
       "      <th>View Position</th>\n",
       "      <th>OriginalImage[Width</th>\n",
       "      <th>Height]</th>\n",
       "      <th>OriginalImagePixelSpacing[x</th>\n",
       "      <th>...</th>\n",
       "      <th>Emphysema</th>\n",
       "      <th>Fibrosis</th>\n",
       "      <th>Hernia</th>\n",
       "      <th>Infiltration</th>\n",
       "      <th>Mass</th>\n",
       "      <th>No Finding</th>\n",
       "      <th>Nodule</th>\n",
       "      <th>Pleural_Thickening</th>\n",
       "      <th>Pneumonia</th>\n",
       "      <th>Pneumothorax</th>\n",
       "    </tr>\n",
       "  </thead>\n",
       "  <tbody>\n",
       "    <tr>\n",
       "      <th>86879</th>\n",
       "      <td>00021435_000.png</td>\n",
       "      <td>Effusion|Infiltration</td>\n",
       "      <td>0</td>\n",
       "      <td>21435</td>\n",
       "      <td>75</td>\n",
       "      <td>M</td>\n",
       "      <td>PA</td>\n",
       "      <td>3056</td>\n",
       "      <td>2544</td>\n",
       "      <td>0.139</td>\n",
       "      <td>...</td>\n",
       "      <td>0.0</td>\n",
       "      <td>0.0</td>\n",
       "      <td>0.0</td>\n",
       "      <td>1.0</td>\n",
       "      <td>0.0</td>\n",
       "      <td>0.0</td>\n",
       "      <td>0.0</td>\n",
       "      <td>0.0</td>\n",
       "      <td>0.0</td>\n",
       "      <td>0.0</td>\n",
       "    </tr>\n",
       "    <tr>\n",
       "      <th>30604</th>\n",
       "      <td>00008004_009.png</td>\n",
       "      <td>Atelectasis|Mass</td>\n",
       "      <td>9</td>\n",
       "      <td>8004</td>\n",
       "      <td>53</td>\n",
       "      <td>M</td>\n",
       "      <td>AP</td>\n",
       "      <td>2500</td>\n",
       "      <td>2048</td>\n",
       "      <td>0.168</td>\n",
       "      <td>...</td>\n",
       "      <td>0.0</td>\n",
       "      <td>0.0</td>\n",
       "      <td>0.0</td>\n",
       "      <td>0.0</td>\n",
       "      <td>1.0</td>\n",
       "      <td>0.0</td>\n",
       "      <td>0.0</td>\n",
       "      <td>0.0</td>\n",
       "      <td>0.0</td>\n",
       "      <td>0.0</td>\n",
       "    </tr>\n",
       "    <tr>\n",
       "      <th>34000</th>\n",
       "      <td>00008899_008.png</td>\n",
       "      <td>No Finding</td>\n",
       "      <td>8</td>\n",
       "      <td>8899</td>\n",
       "      <td>29</td>\n",
       "      <td>F</td>\n",
       "      <td>PA</td>\n",
       "      <td>2414</td>\n",
       "      <td>2741</td>\n",
       "      <td>0.143</td>\n",
       "      <td>...</td>\n",
       "      <td>0.0</td>\n",
       "      <td>0.0</td>\n",
       "      <td>0.0</td>\n",
       "      <td>0.0</td>\n",
       "      <td>0.0</td>\n",
       "      <td>1.0</td>\n",
       "      <td>0.0</td>\n",
       "      <td>0.0</td>\n",
       "      <td>0.0</td>\n",
       "      <td>0.0</td>\n",
       "    </tr>\n",
       "  </tbody>\n",
       "</table>\n",
       "<p>3 rows × 27 columns</p>\n",
       "</div>"
      ],
      "text/plain": [
       "            Image Index         Finding Labels  Follow-up #  Patient ID  \\\n",
       "86879  00021435_000.png  Effusion|Infiltration            0       21435   \n",
       "30604  00008004_009.png       Atelectasis|Mass            9        8004   \n",
       "34000  00008899_008.png             No Finding            8        8899   \n",
       "\n",
       "       Patient Age Patient Gender View Position  OriginalImage[Width  Height]  \\\n",
       "86879           75              M            PA                 3056     2544   \n",
       "30604           53              M            AP                 2500     2048   \n",
       "34000           29              F            PA                 2414     2741   \n",
       "\n",
       "       OriginalImagePixelSpacing[x  ...  Emphysema  Fibrosis  Hernia  \\\n",
       "86879                        0.139  ...        0.0       0.0     0.0   \n",
       "30604                        0.168  ...        0.0       0.0     0.0   \n",
       "34000                        0.143  ...        0.0       0.0     0.0   \n",
       "\n",
       "       Infiltration  Mass  No Finding  Nodule  Pleural_Thickening  Pneumonia  \\\n",
       "86879           1.0   0.0         0.0     0.0                 0.0        0.0   \n",
       "30604           0.0   1.0         0.0     0.0                 0.0        0.0   \n",
       "34000           0.0   0.0         1.0     0.0                 0.0        0.0   \n",
       "\n",
       "       Pneumothorax  \n",
       "86879           0.0  \n",
       "30604           0.0  \n",
       "34000           0.0  \n",
       "\n",
       "[3 rows x 27 columns]"
      ]
     },
     "execution_count": 5,
     "metadata": {},
     "output_type": "execute_result"
    }
   ],
   "source": [
    "all_labels = np.unique(list(chain(*all_xray_df['Finding Labels'].map(lambda x: x.split('|')).tolist())))\n",
    "all_labels = [x for x in all_labels if len(x)>0]\n",
    "print('All Labels ({}): {}'.format(len(all_labels), all_labels))\n",
    "for c_label in all_labels:\n",
    "    if len(c_label)>1:#leave out empty labels \n",
    "        all_xray_df[c_label] = all_xray_df['Finding Labels'].map(lambda finding: 1.0 if c_label in finding else 0)\n",
    "all_xray_df.sample(3)\n"
   ]
  },
  {
   "cell_type": "code",
   "execution_count": 6,
   "metadata": {},
   "outputs": [
    {
     "data": {
      "text/html": [
       "<div>\n",
       "<style scoped>\n",
       "    .dataframe tbody tr th:only-of-type {\n",
       "        vertical-align: middle;\n",
       "    }\n",
       "\n",
       "    .dataframe tbody tr th {\n",
       "        vertical-align: top;\n",
       "    }\n",
       "\n",
       "    .dataframe thead th {\n",
       "        text-align: right;\n",
       "    }\n",
       "</style>\n",
       "<table border=\"1\" class=\"dataframe\">\n",
       "  <thead>\n",
       "    <tr style=\"text-align: right;\">\n",
       "      <th></th>\n",
       "      <th>Image Index</th>\n",
       "      <th>Finding Labels</th>\n",
       "      <th>Follow-up #</th>\n",
       "      <th>Patient ID</th>\n",
       "      <th>Patient Age</th>\n",
       "      <th>Patient Gender</th>\n",
       "      <th>View Position</th>\n",
       "      <th>OriginalImageWidth</th>\n",
       "      <th>OriginalImageHeight</th>\n",
       "      <th>OriginalImagePixelSpacing_x</th>\n",
       "      <th>...</th>\n",
       "      <th>Emphysema</th>\n",
       "      <th>Fibrosis</th>\n",
       "      <th>Hernia</th>\n",
       "      <th>Infiltration</th>\n",
       "      <th>Mass</th>\n",
       "      <th>No Finding</th>\n",
       "      <th>Nodule</th>\n",
       "      <th>Pleural_Thickening</th>\n",
       "      <th>Pneumonia</th>\n",
       "      <th>Pneumothorax</th>\n",
       "    </tr>\n",
       "  </thead>\n",
       "  <tbody>\n",
       "    <tr>\n",
       "      <th>5316</th>\n",
       "      <td>00028628_019.png</td>\n",
       "      <td>Infiltration|Nodule</td>\n",
       "      <td>19</td>\n",
       "      <td>28628</td>\n",
       "      <td>019Y</td>\n",
       "      <td>M</td>\n",
       "      <td>AP</td>\n",
       "      <td>3056</td>\n",
       "      <td>2544</td>\n",
       "      <td>0.139</td>\n",
       "      <td>...</td>\n",
       "      <td>0</td>\n",
       "      <td>0</td>\n",
       "      <td>0</td>\n",
       "      <td>1</td>\n",
       "      <td>0</td>\n",
       "      <td>0</td>\n",
       "      <td>1</td>\n",
       "      <td>0</td>\n",
       "      <td>0</td>\n",
       "      <td>0</td>\n",
       "    </tr>\n",
       "    <tr>\n",
       "      <th>911</th>\n",
       "      <td>00004822_039.png</td>\n",
       "      <td>No Finding</td>\n",
       "      <td>39</td>\n",
       "      <td>4822</td>\n",
       "      <td>027Y</td>\n",
       "      <td>M</td>\n",
       "      <td>AP</td>\n",
       "      <td>2500</td>\n",
       "      <td>2048</td>\n",
       "      <td>0.168</td>\n",
       "      <td>...</td>\n",
       "      <td>0</td>\n",
       "      <td>0</td>\n",
       "      <td>0</td>\n",
       "      <td>0</td>\n",
       "      <td>0</td>\n",
       "      <td>1</td>\n",
       "      <td>0</td>\n",
       "      <td>0</td>\n",
       "      <td>0</td>\n",
       "      <td>0</td>\n",
       "    </tr>\n",
       "    <tr>\n",
       "      <th>5119</th>\n",
       "      <td>00027229_000.png</td>\n",
       "      <td>Atelectasis</td>\n",
       "      <td>0</td>\n",
       "      <td>27229</td>\n",
       "      <td>073Y</td>\n",
       "      <td>M</td>\n",
       "      <td>PA</td>\n",
       "      <td>2810</td>\n",
       "      <td>2981</td>\n",
       "      <td>0.143</td>\n",
       "      <td>...</td>\n",
       "      <td>0</td>\n",
       "      <td>0</td>\n",
       "      <td>0</td>\n",
       "      <td>0</td>\n",
       "      <td>0</td>\n",
       "      <td>0</td>\n",
       "      <td>0</td>\n",
       "      <td>0</td>\n",
       "      <td>0</td>\n",
       "      <td>0</td>\n",
       "    </tr>\n",
       "  </tbody>\n",
       "</table>\n",
       "<p>3 rows × 26 columns</p>\n",
       "</div>"
      ],
      "text/plain": [
       "           Image Index       Finding Labels  Follow-up #  Patient ID  \\\n",
       "5316  00028628_019.png  Infiltration|Nodule           19       28628   \n",
       "911   00004822_039.png           No Finding           39        4822   \n",
       "5119  00027229_000.png          Atelectasis            0       27229   \n",
       "\n",
       "     Patient Age Patient Gender View Position  OriginalImageWidth  \\\n",
       "5316        019Y              M            AP                3056   \n",
       "911         027Y              M            AP                2500   \n",
       "5119        073Y              M            PA                2810   \n",
       "\n",
       "      OriginalImageHeight  OriginalImagePixelSpacing_x  ...  Emphysema  \\\n",
       "5316                 2544                        0.139  ...          0   \n",
       "911                  2048                        0.168  ...          0   \n",
       "5119                 2981                        0.143  ...          0   \n",
       "\n",
       "      Fibrosis  Hernia  Infiltration  Mass  No Finding  Nodule  \\\n",
       "5316         0       0             1     0           0       1   \n",
       "911          0       0             0     0           1       0   \n",
       "5119         0       0             0     0           0       0   \n",
       "\n",
       "      Pleural_Thickening  Pneumonia  Pneumothorax  \n",
       "5316                   0          0             0  \n",
       "911                    0          0             0  \n",
       "5119                   0          0             0  \n",
       "\n",
       "[3 rows x 26 columns]"
      ]
     },
     "execution_count": 6,
     "metadata": {},
     "output_type": "execute_result"
    }
   ],
   "source": [
    "all_labels = np.unique(list(chain(*data_sample['Finding Labels'].map(lambda x: x.split('|')).tolist())))\n",
    "all_labels = [x for x in all_labels if len(x)>0]\n",
    "for c_label in all_labels:\n",
    "    if len(c_label)>1: # leave out empty labels\n",
    "        data_sample[c_label] = data_sample['Finding Labels'].map(lambda finding: 1 if c_label in finding else 0)\n",
    "data_sample.sample(3)"
   ]
  },
  {
   "cell_type": "code",
   "execution_count": 7,
   "metadata": {},
   "outputs": [
    {
     "data": {
      "text/plain": [
       "15"
      ]
     },
     "execution_count": 7,
     "metadata": {},
     "output_type": "execute_result"
    }
   ],
   "source": [
    "#Number of all disease labels\n",
    "len(all_labels)"
   ]
  },
  {
   "cell_type": "code",
   "execution_count": 8,
   "metadata": {},
   "outputs": [
    {
     "name": "stdout",
     "output_type": "stream",
     "text": [
      "<class 'pandas.core.frame.DataFrame'>\n",
      "RangeIndex: 112120 entries, 0 to 112119\n",
      "Data columns (total 27 columns):\n",
      " #   Column                       Non-Null Count   Dtype  \n",
      "---  ------                       --------------   -----  \n",
      " 0   Image Index                  112120 non-null  object \n",
      " 1   Finding Labels               112120 non-null  object \n",
      " 2   Follow-up #                  112120 non-null  int64  \n",
      " 3   Patient ID                   112120 non-null  int64  \n",
      " 4   Patient Age                  112120 non-null  int64  \n",
      " 5   Patient Gender               112120 non-null  object \n",
      " 6   View Position                112120 non-null  object \n",
      " 7   OriginalImage[Width          112120 non-null  int64  \n",
      " 8   Height]                      112120 non-null  int64  \n",
      " 9   OriginalImagePixelSpacing[x  112120 non-null  float64\n",
      " 10  y]                           112120 non-null  float64\n",
      " 11  Unnamed: 11                  0 non-null       float64\n",
      " 12  Atelectasis                  112120 non-null  float64\n",
      " 13  Cardiomegaly                 112120 non-null  float64\n",
      " 14  Consolidation                112120 non-null  float64\n",
      " 15  Edema                        112120 non-null  float64\n",
      " 16  Effusion                     112120 non-null  float64\n",
      " 17  Emphysema                    112120 non-null  float64\n",
      " 18  Fibrosis                     112120 non-null  float64\n",
      " 19  Hernia                       112120 non-null  float64\n",
      " 20  Infiltration                 112120 non-null  float64\n",
      " 21  Mass                         112120 non-null  float64\n",
      " 22  No Finding                   112120 non-null  float64\n",
      " 23  Nodule                       112120 non-null  float64\n",
      " 24  Pleural_Thickening           112120 non-null  float64\n",
      " 25  Pneumonia                    112120 non-null  float64\n",
      " 26  Pneumothorax                 112120 non-null  float64\n",
      "dtypes: float64(18), int64(5), object(4)\n",
      "memory usage: 23.1+ MB\n"
     ]
    }
   ],
   "source": [
    "#concise summary of the main data\n",
    "all_xray_df.info()"
   ]
  },
  {
   "cell_type": "code",
   "execution_count": 9,
   "metadata": {},
   "outputs": [
    {
     "name": "stdout",
     "output_type": "stream",
     "text": [
      "<class 'pandas.core.frame.DataFrame'>\n",
      "RangeIndex: 5606 entries, 0 to 5605\n",
      "Data columns (total 26 columns):\n",
      " #   Column                       Non-Null Count  Dtype  \n",
      "---  ------                       --------------  -----  \n",
      " 0   Image Index                  5606 non-null   object \n",
      " 1   Finding Labels               5606 non-null   object \n",
      " 2   Follow-up #                  5606 non-null   int64  \n",
      " 3   Patient ID                   5606 non-null   int64  \n",
      " 4   Patient Age                  5606 non-null   object \n",
      " 5   Patient Gender               5606 non-null   object \n",
      " 6   View Position                5606 non-null   object \n",
      " 7   OriginalImageWidth           5606 non-null   int64  \n",
      " 8   OriginalImageHeight          5606 non-null   int64  \n",
      " 9   OriginalImagePixelSpacing_x  5606 non-null   float64\n",
      " 10  OriginalImagePixelSpacing_y  5606 non-null   float64\n",
      " 11  Atelectasis                  5606 non-null   int64  \n",
      " 12  Cardiomegaly                 5606 non-null   int64  \n",
      " 13  Consolidation                5606 non-null   int64  \n",
      " 14  Edema                        5606 non-null   int64  \n",
      " 15  Effusion                     5606 non-null   int64  \n",
      " 16  Emphysema                    5606 non-null   int64  \n",
      " 17  Fibrosis                     5606 non-null   int64  \n",
      " 18  Hernia                       5606 non-null   int64  \n",
      " 19  Infiltration                 5606 non-null   int64  \n",
      " 20  Mass                         5606 non-null   int64  \n",
      " 21  No Finding                   5606 non-null   int64  \n",
      " 22  Nodule                       5606 non-null   int64  \n",
      " 23  Pleural_Thickening           5606 non-null   int64  \n",
      " 24  Pneumonia                    5606 non-null   int64  \n",
      " 25  Pneumothorax                 5606 non-null   int64  \n",
      "dtypes: float64(2), int64(19), object(5)\n",
      "memory usage: 1.1+ MB\n"
     ]
    }
   ],
   "source": [
    "#concise summary of the sample data\n",
    "data_sample.info()"
   ]
  },
  {
   "cell_type": "code",
   "execution_count": 10,
   "metadata": {},
   "outputs": [
    {
     "data": {
      "text/plain": [
       "Atelectasis           0.103095\n",
       "Cardiomegaly          0.024759\n",
       "Consolidation         0.041625\n",
       "Edema                 0.020540\n",
       "Effusion              0.118775\n",
       "Emphysema             0.022440\n",
       "Fibrosis              0.015037\n",
       "Hernia                0.002025\n",
       "Infiltration          0.177435\n",
       "Mass                  0.051570\n",
       "No Finding            0.538361\n",
       "Nodule                0.056466\n",
       "Pleural_Thickening    0.030191\n",
       "Pneumonia             0.012763\n",
       "Pneumothorax          0.047289\n",
       "dtype: float64"
      ]
     },
     "execution_count": 10,
     "metadata": {},
     "output_type": "execute_result"
    }
   ],
   "source": [
    "#Relative frequency of each disease in the main data\n",
    "all_xray_df[all_labels].sum()/len(all_xray_df)"
   ]
  },
  {
   "cell_type": "code",
   "execution_count": 11,
   "metadata": {},
   "outputs": [
    {
     "data": {
      "text/plain": [
       "Atelectasis           0.090617\n",
       "Cardiomegaly          0.025152\n",
       "Consolidation         0.040314\n",
       "Edema                 0.021049\n",
       "Effusion              0.114877\n",
       "Emphysema             0.022654\n",
       "Fibrosis              0.014984\n",
       "Hernia                0.002319\n",
       "Infiltration          0.172494\n",
       "Mass                  0.050660\n",
       "No Finding            0.542990\n",
       "Nodule                0.055833\n",
       "Pleural_Thickening    0.031395\n",
       "Pneumonia             0.011060\n",
       "Pneumothorax          0.048341\n",
       "dtype: float64"
      ]
     },
     "execution_count": 11,
     "metadata": {},
     "output_type": "execute_result"
    }
   ],
   "source": [
    "#relative frequency of each disease in the sample data\n",
    "data_sample[all_labels].sum()/len(data_sample)"
   ]
  },
  {
   "cell_type": "code",
   "execution_count": null,
   "metadata": {},
   "outputs": [],
   "source": [
    "#the data in the two Cella sbove reveal the statistics of diseases in main and sample data are similar"
   ]
  }
 ],
 "metadata": {
  "kernelspec": {
   "display_name": "Python 3",
   "language": "python",
   "name": "python3"
  },
  "language_info": {
   "codemirror_mode": {
    "name": "ipython",
    "version": 3
   },
   "file_extension": ".py",
   "mimetype": "text/x-python",
   "name": "python",
   "nbconvert_exporter": "python",
   "pygments_lexer": "ipython3",
   "version": "3.8.5"
  }
 },
 "nbformat": 4,
 "nbformat_minor": 2
}
